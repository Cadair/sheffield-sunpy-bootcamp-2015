{
 "cells": [
  {
   "cell_type": "markdown",
   "metadata": {},
   "source": [
    "#This is a test notebook"
   ]
  },
  {
   "cell_type": "markdown",
   "metadata": {},
   "source": [
    "This is a markdown cell, we write stuff here."
   ]
  },
  {
   "cell_type": "code",
   "execution_count": 1,
   "metadata": {
    "collapsed": true
   },
   "outputs": [],
   "source": [
    "import sunpy"
   ]
  },
  {
   "cell_type": "code",
   "execution_count": 3,
   "metadata": {
    "collapsed": false
   },
   "outputs": [
    {
     "name": "stdout",
     "output_type": "stream",
     "text": [
      "FILES USED:\n",
      "  /home/stuart/GitHub/sunpy/sunpy/data/sunpyrc\n",
      "  /home/stuart/.sunpy/sunpyrc\n",
      "\n",
      "CONFIGURATION:\n",
      "  [general]\n",
      "  time_format = %Y-%m-%d %H:%M:%S\n",
      "  working_dir = /home/stuart/sunpy\n",
      "\n",
      "  [downloads]\n",
      "  download_dir = /home/stuart/sunpy/data\n",
      "  sample_dir = /home/stuart/sunpy/data/sample_data\n",
      "\n",
      "  [database]\n",
      "  url = sqlite:///home/stuart/sunpy/sunpydb.sqlite\n",
      "\n"
     ]
    }
   ],
   "source": [
    "sunpy.print_config()"
   ]
  },
  {
   "cell_type": "markdown",
   "metadata": {},
   "source": [
    "More markdown goes here."
   ]
  }
 ],
 "metadata": {
  "kernelspec": {
   "display_name": "Python 2",
   "language": "python",
   "name": "python2"
  },
  "language_info": {
   "codemirror_mode": {
    "name": "ipython",
    "version": 2
   },
   "file_extension": ".py",
   "mimetype": "text/x-python",
   "name": "python",
   "nbconvert_exporter": "python",
   "pygments_lexer": "ipython2",
   "version": "2.7.9"
  }
 },
 "nbformat": 4,
 "nbformat_minor": 0
}
